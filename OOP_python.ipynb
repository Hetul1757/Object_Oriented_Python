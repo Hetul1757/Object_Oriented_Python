{
 "cells": [
  {
   "cell_type": "markdown",
   "metadata": {},
   "source": [
    "# Object Oriented Programming in Python"
   ]
  },
  {
   "cell_type": "markdown",
   "metadata": {},
   "source": [
    "Object-Oriented Programming (OOP) is a paradigm where key elements are objects and classes.<br>\n",
    "Class: simply an abstraction of something (e.g. a desk on which your laptop is laying is an object whereas a representation of all desks is a class)<br>\n",
    "Object: is an object (e.g. my laptop, my phone or my bottle of water are objects)<br>\n",
    "\n",
    "All classes in Python belong to one class that's called class type. Thus, lists, tuples, strings and others are objects of Type class."
   ]
  },
  {
   "cell_type": "markdown",
   "metadata": {},
   "source": [
    "### Structural Programming vs OOP"
   ]
  },
  {
   "cell_type": "markdown",
   "metadata": {},
   "source": [
    "Structural Programming: logic and sequence of actions are key elements.<br>\n",
    "Object-Oriented Programming: A program like a system of interactive objects."
   ]
  },
  {
   "cell_type": "markdown",
   "metadata": {},
   "source": [
    "## 1.Class and Object Creation"
   ]
  },
  {
   "cell_type": "markdown",
   "metadata": {},
   "source": [
    "All the following examples will be based on american television series friends and its characters."
   ]
  },
  {
   "cell_type": "code",
   "execution_count": 4,
   "metadata": {},
   "outputs": [
    {
     "name": "stdout",
     "output_type": "stream",
     "text": [
      "<class '__main__.season_character'>\n"
     ]
    }
   ],
   "source": [
    "class season_character:\n",
    "    pass\n",
    "\n",
    "chandler = season_character()\n",
    "\n",
    "print(type(chandler))"
   ]
  },
  {
   "cell_type": "markdown",
   "metadata": {},
   "source": [
    "Each class is unique and has to contain its own attributes and methods:<br>\n",
    "Methods are just Functions<br>\n",
    "Fields are just Variables (another name for fields is properties or attributes. These names are interchangeable)"
   ]
  },
  {
   "cell_type": "markdown",
   "metadata": {},
   "source": [
    "### Attributes of Class"
   ]
  },
  {
   "cell_type": "markdown",
   "metadata": {},
   "source": [
    "When it comes to attributes of a class you may think of this as certain properties. For example, start with yourself and try figuring out what properties you have (e.g. age, gender, hair color and so forth).\n",
    "\n",
    "In order to access class attributes we need an object of that class first and then call an attribute with the help of the following syntax: object_name.attribute_name (it's called the dot notation)\n",
    "\n",
    "Lets add some attributes and methods to season_character class."
   ]
  },
  {
   "cell_type": "code",
   "execution_count": 43,
   "metadata": {},
   "outputs": [
    {
     "name": "stdout",
     "output_type": "stream",
     "text": [
      "Print name:Chandler\n",
      "Print Occupationstatistical consultant\n",
      "My name is Chandler.\n"
     ]
    }
   ],
   "source": [
    "class season_character:\n",
    "    name = \"Chandler\"\n",
    "    occupation = \"statistical consultant\"\n",
    "    \n",
    "    def say(self):\n",
    "        print(\"My name is Chandler.\")\n",
    "\n",
    "chandler = season_character()\n",
    "\n",
    "print(\"Print name:\"+chandler.name)\n",
    "print(\"Print Occupation\"+chandler.occupation)\n",
    "chandler.say()"
   ]
  },
  {
   "cell_type": "markdown",
   "metadata": {},
   "source": [
    "#### method in OOP takes any object as an argument in this take \"self\" keyword takes season_character_object object as an argument."
   ]
  },
  {
   "cell_type": "markdown",
   "metadata": {},
   "source": [
    "### Class Built-in Attributes and Methods"
   ]
  },
  {
   "cell_type": "markdown",
   "metadata": {},
   "source": [
    "For each class, there are attributes and methods that had been predefined (built-in)\n",
    "\n",
    "#### Built-in Attributes:\n",
    "\n",
    "__name__ - returns a class name;<br>\n",
    "__doc__ - returns description of a class (documentation);<br>\n",
    "__dict__ - returns a dictionary of local variables (attributes) for an object/class;\n",
    "\n",
    "#### Built-in Functions:\n",
    "\n",
    "getattr(obj, 'name') - returns an attribute value of an object;<br>\n",
    "setattr(obj, 'name', value) - set a new value for an attribute;<br>\n",
    "delattr(obj, 'name') - deletes an attribute;<br>\n",
    "hasattr(obj, 'name') - checks if an object has an attribute;<br>\n",
    "dir(obj or a class) - returns a complete set of attributes for an object or a class;<br>\n",
    "isinstance(obj, class) - checks whether an object is an instance of a certain class"
   ]
  },
  {
   "cell_type": "code",
   "execution_count": 44,
   "metadata": {},
   "outputs": [
    {
     "name": "stdout",
     "output_type": "stream",
     "text": [
      "Name of Class:season_character\n",
      "Description of the class:None\n",
      "Attributes of Class:{'__module__': '__main__', 'name': 'Chandler', 'occupation': 'statistical consultant', 'say': <function season_character.say at 0x0000007504848B70>, '__dict__': <attribute '__dict__' of 'season_character' objects>, '__weakref__': <attribute '__weakref__' of 'season_character' objects>, '__doc__': None}\n"
     ]
    }
   ],
   "source": [
    "print(\"Name of Class:\"+season_character.__name__)\n",
    "print(\"Description of the class:\"+str(season_character.__doc__))\n",
    "print(\"Attributes of Class:\"+str(season_character.__dict__))"
   ]
  },
  {
   "cell_type": "code",
   "execution_count": 45,
   "metadata": {},
   "outputs": [
    {
     "name": "stdout",
     "output_type": "stream",
     "text": [
      "get chandler's occupation:statistical consultant\n",
      "set chnadler's occupation to advertisment:None\n",
      "get chandler's updated occupation:advertisment\n"
     ]
    }
   ],
   "source": [
    "print(\"get chandler's occupation:\"+getattr(chandler,'occupation'))\n",
    "print(\"set chnadler's occupation to advertisment:\"+str(setattr(chandler,'occupation','advertisment')))\n",
    "print(\"get chandler's updated occupation:\"+getattr(chandler,'occupation'))"
   ]
  },
  {
   "cell_type": "code",
   "execution_count": 52,
   "metadata": {},
   "outputs": [
    {
     "name": "stdout",
     "output_type": "stream",
     "text": [
      "check if chandler has occupation:True\n",
      "chandler belong to season_character class:True\n"
     ]
    }
   ],
   "source": [
    "print(\"check if chandler has occupation:\"+str(hasattr(chandler,\"occupation\")))\n",
    "print(\"chandler belong to season_character class:\"+str(isinstance(chandler,season_character)))"
   ]
  },
  {
   "cell_type": "markdown",
   "metadata": {},
   "source": [
    "#### Class Attributes Changing:"
   ]
  },
  {
   "cell_type": "code",
   "execution_count": 54,
   "metadata": {},
   "outputs": [
    {
     "name": "stdout",
     "output_type": "stream",
     "text": [
      "Chandler's Ocuupation:advertisment\n"
     ]
    }
   ],
   "source": [
    "print(\"Chandler's Ocuupation:\"+chandler.occupation)"
   ]
  },
  {
   "cell_type": "code",
   "execution_count": 55,
   "metadata": {},
   "outputs": [
    {
     "name": "stdout",
     "output_type": "stream",
     "text": [
      "Chandler's Ocuupation:Statisitical consultant\n"
     ]
    }
   ],
   "source": [
    "chandler.occupation = \"Statisitical consultant\"\n",
    "print(\"Chandler's Ocuupation:\"+chandler.occupation)"
   ]
  },
  {
   "cell_type": "markdown",
   "metadata": {},
   "source": [
    "#### Creating Attributes Outside the Class\n",
    "\n",
    "Not reccomended yet possible"
   ]
  },
  {
   "cell_type": "code",
   "execution_count": 59,
   "metadata": {},
   "outputs": [],
   "source": [
    "chandler.partner = True"
   ]
  },
  {
   "cell_type": "code",
   "execution_count": 82,
   "metadata": {},
   "outputs": [
    {
     "name": "stdout",
     "output_type": "stream",
     "text": [
      "is chandler has partner:False\n"
     ]
    }
   ],
   "source": [
    "print(\"is chandler has partner:\"+str(hasattr(chandler, 'partner')))"
   ]
  },
  {
   "cell_type": "markdown",
   "metadata": {},
   "source": [
    "##  2.Constructor and Destructor"
   ]
  },
  {
   "cell_type": "code",
   "execution_count": 89,
   "metadata": {},
   "outputs": [],
   "source": [
    "class friends_character_with_constructor():\n",
    "    def __init__(self,name,occupation):\n",
    "        self.name = name\n",
    "        self.occupation = occupation\n",
    "        \n",
    "    def __del__(self):\n",
    "        pass\n",
    "    \n",
    "chandler = friends_character_with_constructor(\"Chandler\",\"statistical consultant\")\n",
    "monica = friends_character_with_constructor(\"Monica\",\"chef\")\n",
    "joey = friends_character_with_constructor(\"Joey\",\"actor\")\n",
    "rachel = friends_character_with_constructor(\"Rachel\",\"fashion\")\n",
    "phoebe = friends_character_with_constructor(\"Pheobe\",\"meassues\")\n",
    "ross = friends_character_with_constructor(\"Ross\",\"Professor\")\n",
    "emily = friends_character_with_constructor(\"Emily\",\"dont know\")\n",
    "\n",
    "del emily"
   ]
  },
  {
   "cell_type": "code",
   "execution_count": 92,
   "metadata": {},
   "outputs": [
    {
     "ename": "NameError",
     "evalue": "name 'emily' is not defined",
     "output_type": "error",
     "traceback": [
      "\u001b[1;31m---------------------------------------------------------------------------\u001b[0m",
      "\u001b[1;31mNameError\u001b[0m                                 Traceback (most recent call last)",
      "\u001b[1;32m<ipython-input-92-1d3e00ff3113>\u001b[0m in \u001b[0;36m<module>\u001b[1;34m()\u001b[0m\n\u001b[1;32m----> 1\u001b[1;33m \u001b[0mprint\u001b[0m\u001b[1;33m(\u001b[0m\u001b[1;34m\"chandler belong to season_character class:\"\u001b[0m\u001b[1;33m+\u001b[0m\u001b[0mstr\u001b[0m\u001b[1;33m(\u001b[0m\u001b[0misinstance\u001b[0m\u001b[1;33m(\u001b[0m\u001b[0memily\u001b[0m\u001b[1;33m,\u001b[0m\u001b[0mfriends_character_with_constructor\u001b[0m\u001b[1;33m)\u001b[0m\u001b[1;33m)\u001b[0m\u001b[1;33m)\u001b[0m\u001b[1;33m\u001b[0m\u001b[0m\n\u001b[0m",
      "\u001b[1;31mNameError\u001b[0m: name 'emily' is not defined"
     ]
    }
   ],
   "source": [
    "print(\"chandler belong to season_character class:\"+str(isinstance(emily,friends_character_with_constructor)))"
   ]
  },
  {
   "cell_type": "markdown",
   "metadata": {},
   "source": [
    "#### Attributes Creation Control\n",
    "\n",
    "\"__slots__\" keywords control the creation of not required and extra attributes during ibject creation"
   ]
  },
  {
   "cell_type": "code",
   "execution_count": 94,
   "metadata": {},
   "outputs": [],
   "source": [
    "class friends_character_with_constructor():\n",
    "    \n",
    "    __slots__ = ('name', 'occupation')\n",
    "    \n",
    "    def __init__(self,name,occupation):\n",
    "        self.name = name\n",
    "        self.occupation = occupation\n",
    "        \n",
    "    def __del__(self):\n",
    "        pass\n",
    "    \n",
    "chandler = friends_character_with_constructor(\"Chandler\",\"statistical consultant\")\n",
    "monica = friends_character_with_constructor(\"Monica\",\"chef\")\n",
    "joey = friends_character_with_constructor(\"Joey\",\"actor\")\n",
    "rachel = friends_character_with_constructor(\"Rachel\",\"fashion\")\n",
    "phoebe = friends_character_with_constructor(\"Pheobe\",\"meassues\")\n",
    "ross = friends_character_with_constructor(\"Ross\",\"Professor\")"
   ]
  },
  {
   "cell_type": "code",
   "execution_count": 6,
   "metadata": {},
   "outputs": [
    {
     "ename": "AttributeError",
     "evalue": "'friends_character_with_constructor' object has no attribute 'partner'",
     "output_type": "error",
     "traceback": [
      "\u001b[1;31m---------------------------------------------------------------------------\u001b[0m",
      "\u001b[1;31mAttributeError\u001b[0m                            Traceback (most recent call last)",
      "\u001b[1;32m<ipython-input-6-cb29e39ae5fc>\u001b[0m in \u001b[0;36m<module>\u001b[1;34m()\u001b[0m\n\u001b[0;32m      1\u001b[0m \u001b[1;31m#try to add extra attribure which should not add\u001b[0m\u001b[1;33m\u001b[0m\u001b[1;33m\u001b[0m\u001b[0m\n\u001b[1;32m----> 2\u001b[1;33m \u001b[0mchandler\u001b[0m\u001b[1;33m.\u001b[0m\u001b[0mpartner\u001b[0m \u001b[1;33m=\u001b[0m \u001b[1;32mTrue\u001b[0m\u001b[1;33m\u001b[0m\u001b[0m\n\u001b[0m",
      "\u001b[1;31mAttributeError\u001b[0m: 'friends_character_with_constructor' object has no attribute 'partner'"
     ]
    }
   ],
   "source": [
    "#try to add extra attribure which should not add \n",
    "chandler.partner = True"
   ]
  },
  {
   "cell_type": "markdown",
   "metadata": {},
   "source": [
    "Notation: Notations tell which types and values a constructor is expected to get. It doesn't mean that it's impossible to provide other types, not at all. It just tells what types we should provide."
   ]
  },
  {
   "cell_type": "code",
   "execution_count": 3,
   "metadata": {},
   "outputs": [],
   "source": [
    "class friends_character_with_constructor():\n",
    "    \n",
    "    __slots__ = ('name', 'occupation')\n",
    "    \n",
    "    def __init__(self,name:str,occupation:str):\n",
    "        self.name = name\n",
    "        self.occupation = occupation\n",
    "        \n",
    "    def __del__(self):\n",
    "        pass\n",
    "    \n",
    "chandler = friends_character_with_constructor(\"Chandler\",\"statistical consultant\")\n",
    "monica = friends_character_with_constructor(\"Monica\",\"chef\")\n",
    "joey = friends_character_with_constructor(\"Joey\",\"actor\")\n",
    "rachel = friends_character_with_constructor(\"Rachel\",\"fashion\")\n",
    "phoebe = friends_character_with_constructor(\"Pheobe\",\"meassues\")\n",
    "ross = friends_character_with_constructor(\"Ross\",\"Professor\")\n",
    "emily = friends_character_with_constructor(\"Emily\",\"No Known\")"
   ]
  },
  {
   "cell_type": "code",
   "execution_count": 4,
   "metadata": {},
   "outputs": [],
   "source": [
    "del emily"
   ]
  },
  {
   "cell_type": "markdown",
   "metadata": {},
   "source": [
    "## 3.Class and Object Attributes. Scope of Variables"
   ]
  },
  {
   "cell_type": "markdown",
   "metadata": {},
   "source": [
    "There are two types of attributes Class and Object.<br>\n",
    "1.Object Attributes :  inside the methods are object attributes<br>\n",
    "2.Class Attribtes : anything apart from that(outside methods) are Class attributes."
   ]
  },
  {
   "cell_type": "code",
   "execution_count": 15,
   "metadata": {},
   "outputs": [],
   "source": [
    "class friends_character_with_constructor():\n",
    "    \n",
    "    coffee_house = \"Central Perk\"\n",
    "    \n",
    "    __slots__ = ('name', 'occupation')\n",
    "    \n",
    "    def __init__(self,name:str,occupation:str):\n",
    "        self.name = name\n",
    "        self.occupation = occupation\n",
    "        \n",
    "    def __del__(self):\n",
    "        pass\n",
    "    \n",
    "chandler = friends_character_with_constructor(\"Chandler\",\"statistical consultant\")\n",
    "monica = friends_character_with_constructor(\"Monica\",\"chef\")\n",
    "joey = friends_character_with_constructor(\"Joey\",\"actor\")\n",
    "rachel = friends_character_with_constructor(\"Rachel\",\"fashion\")\n",
    "phoebe = friends_character_with_constructor(\"Pheobe\",\"meassues\")\n",
    "ross = friends_character_with_constructor(\"Ross\",\"Professor\")\n",
    "emily = friends_character_with_constructor(\"Emily\",\"No Known\")"
   ]
  },
  {
   "cell_type": "markdown",
   "metadata": {},
   "source": [
    "Class attributes can be accessed via an object or a class (when there aren't any objects yet)<br>\n",
    "Object attributes can be accessed only via an object"
   ]
  },
  {
   "cell_type": "code",
   "execution_count": 16,
   "metadata": {},
   "outputs": [
    {
     "name": "stdout",
     "output_type": "stream",
     "text": [
      "Central Perk\n"
     ]
    }
   ],
   "source": [
    "#accessing class attribute via class\n",
    "print(friends_character_with_constructor.coffee_house)"
   ]
  },
  {
   "cell_type": "code",
   "execution_count": 17,
   "metadata": {},
   "outputs": [
    {
     "name": "stdout",
     "output_type": "stream",
     "text": [
      "Central Perk\n"
     ]
    }
   ],
   "source": [
    "#accessing class attribute via object\n",
    "print(chandler.coffee_house)"
   ]
  },
  {
   "cell_type": "code",
   "execution_count": 18,
   "metadata": {},
   "outputs": [
    {
     "name": "stdout",
     "output_type": "stream",
     "text": [
      "Chandler\n"
     ]
    }
   ],
   "source": [
    "#accessing object attribute via object\n",
    "print(chandler.name)"
   ]
  },
  {
   "cell_type": "code",
   "execution_count": 20,
   "metadata": {},
   "outputs": [
    {
     "name": "stdout",
     "output_type": "stream",
     "text": [
      "<member 'occupation' of 'friends_character_with_constructor' objects>\n"
     ]
    }
   ],
   "source": [
    "#Accessing object attributes via the class is impossible, only via the object\n",
    "print(friends_character_with_constructor.occupation)"
   ]
  },
  {
   "cell_type": "markdown",
   "metadata": {},
   "source": [
    "### Local Variables"
   ]
  },
  {
   "cell_type": "markdown",
   "metadata": {},
   "source": [
    "Local variables in a class are variables that defined inside methods. They exist only there and can't be used outside those methods. In the above code, variables such as name, occupation are local. We can't access them using a class name."
   ]
  },
  {
   "cell_type": "code",
   "execution_count": 23,
   "metadata": {},
   "outputs": [
    {
     "name": "stdout",
     "output_type": "stream",
     "text": [
      "<member 'occupation' of 'friends_character_with_constructor' objects>\n"
     ]
    }
   ],
   "source": [
    "print(friends_character_with_constructor.occupation)"
   ]
  },
  {
   "cell_type": "markdown",
   "metadata": {},
   "source": [
    "### Global Variables"
   ]
  },
  {
   "cell_type": "markdown",
   "metadata": {},
   "source": [
    "Global variables aren't defined in code blocks (e.g. functions, statements and so forth) and can be accessed by using a class or an object."
   ]
  },
  {
   "cell_type": "code",
   "execution_count": 24,
   "metadata": {},
   "outputs": [
    {
     "name": "stdout",
     "output_type": "stream",
     "text": [
      "Central Perk\n"
     ]
    }
   ],
   "source": [
    "print(friends_character_with_constructor.coffee_house)"
   ]
  },
  {
   "cell_type": "code",
   "execution_count": 26,
   "metadata": {},
   "outputs": [
    {
     "name": "stdout",
     "output_type": "stream",
     "text": [
      "Central Perk\n"
     ]
    }
   ],
   "source": [
    "print(chandler.coffee_house)"
   ]
  },
  {
   "cell_type": "markdown",
   "metadata": {},
   "source": [
    "## 4.Inheritance, Polymorphism and Encapsulation"
   ]
  },
  {
   "cell_type": "markdown",
   "metadata": {},
   "source": [
    "Inheritance is the procedure in which one class inherits the attributes and methods of another class. The class whose properties and methods are inherited is known as Parent class. And the class that inherits the properties from the parent class is the Child class.\n",
    "\n"
   ]
  },
  {
   "cell_type": "code",
   "execution_count": 23,
   "metadata": {},
   "outputs": [
    {
     "name": "stdout",
     "output_type": "stream",
     "text": [
      "chandler has been deleted\n"
     ]
    }
   ],
   "source": [
    "class friends_season():\n",
    "    \n",
    "    episode_count = 236\n",
    "    season_count = 10\n",
    "    channel = 'NBC'\n",
    "    \n",
    "    def __init__(self,name,occupation):\n",
    "        self.name = name\n",
    "        self.occupation = occupation\n",
    "    \n",
    "    def __del__(self):\n",
    "        print(self.name+\" has been deleted\")    \n",
    "        \n",
    "    def theme(self):\n",
    "        print(\"No one is ever gonna tell you life is going to be this way\")\n",
    "\n",
    "class character(friends_season):\n",
    "    \n",
    "    def greetings(self):\n",
    "        print(\"Hi, My name is \"+self.name)\n",
    "\n",
    "chandler = character(name = 'Chandler', occupation = 'Statisitcal consultant')"
   ]
  },
  {
   "cell_type": "code",
   "execution_count": 5,
   "metadata": {},
   "outputs": [
    {
     "data": {
      "text/plain": [
       "<__main__.character at 0x619840e7b8>"
      ]
     },
     "execution_count": 5,
     "metadata": {},
     "output_type": "execute_result"
    }
   ],
   "source": [
    "chandler"
   ]
  },
  {
   "cell_type": "code",
   "execution_count": 6,
   "metadata": {},
   "outputs": [
    {
     "name": "stdout",
     "output_type": "stream",
     "text": [
      "Hi, My name is Chandler\n"
     ]
    }
   ],
   "source": [
    "chandler.greetings()"
   ]
  },
  {
   "cell_type": "markdown",
   "metadata": {},
   "source": [
    "From the above code we can see chandler object inherited friends_season we dont have to write all the attributes and constructors to chandler object of class character. We added greeting method and extended capibilities of subclass."
   ]
  },
  {
   "cell_type": "code",
   "execution_count": 12,
   "metadata": {},
   "outputs": [
    {
     "name": "stdout",
     "output_type": "stream",
     "text": [
      "Is Chandler Class Subclass of Friends_season Class: True\n"
     ]
    }
   ],
   "source": [
    "print('Is Chandler Class Subclass of Friends_season Class: '+ str(issubclass(character, friends_season)))"
   ]
  },
  {
   "cell_type": "markdown",
   "metadata": {},
   "source": [
    "### Constructor Extension"
   ]
  },
  {
   "cell_type": "markdown",
   "metadata": {},
   "source": [
    "Here, we will provide constructor to character class which will override the friends_season class's costructor."
   ]
  },
  {
   "cell_type": "code",
   "execution_count": 14,
   "metadata": {},
   "outputs": [],
   "source": [
    "class character(friends_season):\n",
    "    \n",
    "    def __init__(self, partner):\n",
    "        self.partner = partner\n",
    "    \n",
    "    def greetings(self):\n",
    "        print(\"Hi, My name is \"+self.name)\n",
    "\n",
    "chandler = character(partner = 'Monica')"
   ]
  },
  {
   "cell_type": "code",
   "execution_count": 19,
   "metadata": {},
   "outputs": [
    {
     "name": "stdout",
     "output_type": "stream",
     "text": [
      "{'__module__': '__main__', '__init__': <function character.__init__ at 0x000000619841BEA0>, 'greetings': <function character.greetings at 0x000000619841BE18>, '__doc__': None}\n"
     ]
    }
   ],
   "source": [
    "print(character.__dict__)"
   ]
  },
  {
   "cell_type": "code",
   "execution_count": 20,
   "metadata": {},
   "outputs": [
    {
     "data": {
      "text/plain": [
       "'Monica'"
      ]
     },
     "execution_count": 20,
     "metadata": {},
     "output_type": "execute_result"
    }
   ],
   "source": [
    "chandler.partner"
   ]
  },
  {
   "cell_type": "markdown",
   "metadata": {},
   "source": [
    "Here, as the sub class constructor has overridden the parent class we cant access the attributes of parent class. <br>\n",
    "We can call the parental constructor and extend it to add new fields."
   ]
  },
  {
   "cell_type": "code",
   "execution_count": 30,
   "metadata": {},
   "outputs": [],
   "source": [
    "class friends_season():\n",
    "    \n",
    "    episode_count = 236\n",
    "    season_count = 10\n",
    "    channel = 'NBC'\n",
    "    \n",
    "    def __init__(self,name,occupation):\n",
    "        self.name = name\n",
    "        self.occupation = occupation   \n",
    "        \n",
    "    def theme(self):\n",
    "        print(\"No one is ever gonna tell you life is going to be this way\")\n",
    "\n",
    "class character(friends_season):\n",
    "    \n",
    "    def __init__(self,name, occupation, partner):\n",
    "        friends_season.__init__(self,name,occupation)\n",
    "        self.partner = partner\n",
    "    \n",
    "    def greetings(self):\n",
    "        print(\"Hi, My name is \"+self.name)\n",
    "\n",
    "chandler = character(name = 'chandler',occupation = 'statistical consultant',partner = 'Monica')"
   ]
  },
  {
   "cell_type": "code",
   "execution_count": 31,
   "metadata": {},
   "outputs": [
    {
     "data": {
      "text/plain": [
       "{'name': 'chandler',\n",
       " 'occupation': 'statistical consultant',\n",
       " 'partner': 'Monica'}"
      ]
     },
     "execution_count": 31,
     "metadata": {},
     "output_type": "execute_result"
    }
   ],
   "source": [
    "chandler.__dict__"
   ]
  },
  {
   "cell_type": "markdown",
   "metadata": {},
   "source": [
    "Here, we can use super keyword to extend parent constructor which is more reliable to avoid any errors."
   ]
  },
  {
   "cell_type": "code",
   "execution_count": 35,
   "metadata": {},
   "outputs": [],
   "source": [
    "class friends_season():\n",
    "    \n",
    "    episode_count = 236\n",
    "    season_count = 10\n",
    "    channel = 'NBC'\n",
    "    \n",
    "    def __init__(self,name,occupation):\n",
    "        self.name = name\n",
    "        self.occupation = occupation   \n",
    "        \n",
    "    def theme(self):\n",
    "        print(\"No one is ever gonna tell you life is going to be this way\")\n",
    "\n",
    "class character(friends_season):\n",
    "    \n",
    "    def __init__(self,name, occupation, partner):\n",
    "        super().__init__(name,occupation)\n",
    "        self.partner = partner\n",
    "    \n",
    "    def greetings(self):\n",
    "        print(\"Hi, My name is \"+self.name)\n",
    "\n",
    "chandler = character(name = 'chandler',occupation = 'statistical consultant',partner = 'Monica')"
   ]
  },
  {
   "cell_type": "code",
   "execution_count": 36,
   "metadata": {},
   "outputs": [
    {
     "data": {
      "text/plain": [
       "{'name': 'chandler',\n",
       " 'occupation': 'statistical consultant',\n",
       " 'partner': 'Monica'}"
      ]
     },
     "execution_count": 36,
     "metadata": {},
     "output_type": "execute_result"
    }
   ],
   "source": [
    "chandler.__dict__"
   ]
  },
  {
   "cell_type": "markdown",
   "metadata": {},
   "source": [
    "### Polymorphism or Method Overriding"
   ]
  },
  {
   "cell_type": "markdown",
   "metadata": {},
   "source": [
    "Polymorphism is just an abstract term. Basically, polymorphism in OOP is just methods with the same names but absolutely different logic."
   ]
  },
  {
   "cell_type": "code",
   "execution_count": 37,
   "metadata": {},
   "outputs": [],
   "source": [
    "class friends_season():\n",
    "    \n",
    "    episode_count = 236\n",
    "    season_count = 10\n",
    "    channel = 'NBC'\n",
    "    \n",
    "    def __init__(self,name,occupation):\n",
    "        self.name = name\n",
    "        self.occupation = occupation  \n",
    "    \n",
    "    def greeting(self):\n",
    "        print(\"In the greetings method of main class\")\n",
    "        \n",
    "    def theme(self):\n",
    "        print(\"No one is ever gonna tell you life is going to be this way\")\n",
    "\n",
    "class character(friends_season):\n",
    "    \n",
    "    def __init__(self,name, occupation, partner):\n",
    "        super().__init__(name,occupation)\n",
    "        self.partner = partner\n",
    "    \n",
    "    def greetings(self):\n",
    "        print(\"Hi, My name is \"+self.name)\n",
    "\n",
    "chandler = character(name = 'chandler',occupation = 'statistical consultant',partner = 'Monica')"
   ]
  },
  {
   "cell_type": "code",
   "execution_count": 39,
   "metadata": {},
   "outputs": [
    {
     "name": "stdout",
     "output_type": "stream",
     "text": [
      "Hi, My name is chandler\n"
     ]
    }
   ],
   "source": [
    "chandler.greetings()"
   ]
  },
  {
   "cell_type": "markdown",
   "metadata": {},
   "source": [
    "### Access Modifiers"
   ]
  },
  {
   "cell_type": "markdown",
   "metadata": {},
   "source": [
    "Public: attribute_name (can be accessed anywhere)<br>\n",
    "Protected: _attribute_name (can be accessed only in the class as well as from all child classes)<br>\n",
    "Private: __attribute_name (can be accessed only in that class in which has been defined)"
   ]
  },
  {
   "cell_type": "code",
   "execution_count": 49,
   "metadata": {},
   "outputs": [
    {
     "data": {
      "text/plain": [
       "221"
      ]
     },
     "execution_count": 49,
     "metadata": {},
     "output_type": "execute_result"
    }
   ],
   "source": [
    "class friends_season():\n",
    "    \n",
    "    #all the attributes are set to private \n",
    "    __episode_count = 236\n",
    "    __season_count = 10\n",
    "    __channel = 'NBC'\n",
    "    \n",
    "    def __init__(self,name,occupation):\n",
    "        self.__name = name\n",
    "        self.__occupation = occupation  \n",
    "        self.__class__.__episode_count+=1\n",
    "    \n",
    "    def greeting(self):\n",
    "        print(\"In the greetings method of main class\")\n",
    "        \n",
    "    def theme(self):\n",
    "        print(\"No one is ever gonna tell you life is going to be this way\")\n",
    "    \n",
    "    def get_counter(self):\n",
    "        return self.__episode_count\n",
    "    \n",
    "    # Define the setter\n",
    "    def set_counter(self, new_value):\n",
    "        # Only int is allowed\n",
    "        if isinstance(new_value, int):\n",
    "            self.__class__.__episode_count = new_value\n",
    "        else:\n",
    "            raise TypeError('Counter Must Be Int!')\n",
    "\n",
    "class character(friends_season):\n",
    "    \n",
    "    def __init__(self,name, occupation, partner):\n",
    "        super().__init__(name,occupation)\n",
    "        self.partner = partner\n",
    "    \n",
    "    def greetings(self):\n",
    "        print(\"Hi, My name is \"+self.name)\n",
    "\n",
    "chandler = character(name = 'chandler',occupation = 'statistical consultant',partner = 'Monica')\n",
    "chandler.set_counter(221)\n",
    "chandler.get_counter()"
   ]
  },
  {
   "cell_type": "markdown",
   "metadata": {},
   "source": [
    "## Instance, Class and Static Methods"
   ]
  },
  {
   "cell_type": "markdown",
   "metadata": {},
   "source": [
    "### Class Methods"
   ]
  },
  {
   "cell_type": "markdown",
   "metadata": {},
   "source": [
    "They take in class as an argument and has the following decorator: @classmethod. These methods can change only the state of a class because objects attributes"
   ]
  },
  {
   "cell_type": "code",
   "execution_count": 62,
   "metadata": {},
   "outputs": [
    {
     "data": {
      "text/plain": [
       "221"
      ]
     },
     "execution_count": 62,
     "metadata": {},
     "output_type": "execute_result"
    }
   ],
   "source": [
    "class friends_season():\n",
    "    \n",
    "    #all the attributes are set to private \n",
    "    __episode_count = 236\n",
    "    __season_count = 10\n",
    "    __channel = 'NBC'\n",
    "    \n",
    "    def __init__(self,name,occupation):\n",
    "        self.__name = name\n",
    "        self.__occupation = occupation  \n",
    "        self.__class__.__episode_count+=1\n",
    "    \n",
    "    def greeting(self):\n",
    "        print(\"In the greetings method of main class\")\n",
    "        \n",
    "    def theme(self):\n",
    "        print(\"No one is ever gonna tell you life is going to be this way\")\n",
    "    \n",
    "    @classmethod\n",
    "    def get_counter(cls):\n",
    "        return cls.__episode_count\n",
    "    \n",
    "    # Define the setter\n",
    "    @classmethod\n",
    "    def set_counter(cls, new_value):\n",
    "        # Only int is allowed\n",
    "        if isinstance(new_value, int):\n",
    "            cls.__episode_count = new_value\n",
    "        else:\n",
    "            raise TypeError('Counter Must Be Int!')\n",
    "\n",
    "\n",
    "chandler = friends_season(name = 'chandler',occupation = 'statistical consultant')\n",
    "chandler.set_counter(221)\n",
    "chandler.get_counter()"
   ]
  },
  {
   "cell_type": "markdown",
   "metadata": {},
   "source": [
    "### Static Methods"
   ]
  },
  {
   "cell_type": "markdown",
   "metadata": {},
   "source": [
    "These methods take in neither objects nor classes as arguments. Thus, their scope of attributes is strongly bounded.Attributes of classes and objects aren't available for them and they can't change the state of classes and objects.<br>\n",
    "We can define static methods with the help of a special decorator @staticmethod."
   ]
  },
  {
   "cell_type": "code",
   "execution_count": 77,
   "metadata": {},
   "outputs": [
    {
     "data": {
      "text/plain": [
       "221"
      ]
     },
     "execution_count": 77,
     "metadata": {},
     "output_type": "execute_result"
    }
   ],
   "source": [
    "import numpy as np\n",
    "\n",
    "class friends_season():\n",
    "    \n",
    "    #all the attributes are set to private \n",
    "    __episode_count = 236\n",
    "    __season_count = 10\n",
    "    __channel = 'NBC'\n",
    "    \n",
    "    def __init__(self,name,occupation,age):\n",
    "        self.__name = name\n",
    "        self.__occupation = occupation  \n",
    "        self.__age = age\n",
    "        self.__class__.__episode_count+=1\n",
    "    \n",
    "    def greeting(self):\n",
    "        print(\"In the greetings method of main class\")\n",
    "        \n",
    "    def theme(self):\n",
    "        print(\"No one is ever gonna tell you life is going to be this way\")\n",
    "    \n",
    "    @classmethod\n",
    "    def get_counter(cls):\n",
    "        return cls.__episode_count\n",
    "    \n",
    "    # Define the setter\n",
    "    @classmethod\n",
    "    def set_counter(cls, new_value):\n",
    "        # Only int is allowed\n",
    "        if isinstance(new_value, int):\n",
    "            cls.__episode_count = new_value\n",
    "        else:\n",
    "            raise TypeError('Counter Must Be Int!')\n",
    "    \n",
    "    @staticmethod\n",
    "    def generate_random_number():\n",
    "        return np.random.randint(25,30,1)[0]\n",
    "\n",
    "class character(friends_season):\n",
    "    \n",
    "    def __init__(self,name, occupation,age, partner):\n",
    "        super().__init__(name,occupation,age)\n",
    "        self.partner = partner\n",
    "    \n",
    "    def greetings(self):\n",
    "        print(\"Hi, My name is \"+self.name)\n",
    "\n",
    "\n",
    "chandler = character(name = 'chandler',occupation = 'statistical consultant', age = friends_season.generate_random_number(),partner = 'Monica')\n",
    "chandler.set_counter(221)\n",
    "chandler.get_counter()"
   ]
  },
  {
   "cell_type": "code",
   "execution_count": 80,
   "metadata": {},
   "outputs": [
    {
     "data": {
      "text/plain": [
       "{'_friends_season__age': 29,\n",
       " '_friends_season__name': 'chandler',\n",
       " '_friends_season__occupation': 'statistical consultant',\n",
       " 'partner': 'Monica'}"
      ]
     },
     "execution_count": 80,
     "metadata": {},
     "output_type": "execute_result"
    }
   ],
   "source": [
    "chandler.__dict__"
   ]
  },
  {
   "cell_type": "markdown",
   "metadata": {},
   "source": [
    "### Instance Method"
   ]
  },
  {
   "cell_type": "code",
   "execution_count": 104,
   "metadata": {},
   "outputs": [
    {
     "data": {
      "text/plain": [
       "221"
      ]
     },
     "execution_count": 104,
     "metadata": {},
     "output_type": "execute_result"
    }
   ],
   "source": [
    "import numpy as np\n",
    "\n",
    "class friends_season():\n",
    "    \n",
    "    #all the attributes are set to private \n",
    "    __episode_count = 236\n",
    "    __season_count = 10\n",
    "    __channel = 'NBC'\n",
    "    \n",
    "    def __init__(self,name,occupation,age):\n",
    "        self.__name = name\n",
    "        self.__occupation = occupation  \n",
    "        self.__age = age\n",
    "        self.__class__.__episode_count+=1\n",
    "    \n",
    "    def greeting(self):\n",
    "        print(\"In the greetings method of main class\")\n",
    "        \n",
    "    def theme(self):\n",
    "        print(\"No one is ever gonna tell you life is going to be this way\")\n",
    "    \n",
    "    @classmethod\n",
    "    def get_counter(cls):\n",
    "        return cls.__episode_count\n",
    "    \n",
    "    # Define the setter\n",
    "    @classmethod\n",
    "    def set_counter(cls, new_value):\n",
    "        # Only int is allowed\n",
    "        if isinstance(new_value, int):\n",
    "            cls.__episode_count = new_value\n",
    "        else:\n",
    "            raise TypeError('Counter Must Be Int!')\n",
    "    \n",
    "    @staticmethod\n",
    "    def generate_random_number():\n",
    "        return np.random.randint(25,30,1)[0]\n",
    "\n",
    "class character(friends_season):\n",
    "    \n",
    "    __characteristics = ('witty','sarcastic','lonely','alone','desparate for love')\n",
    "    \n",
    "    def __init__(self,name, occupation,age, partner):\n",
    "        super().__init__(name,occupation,age)\n",
    "        self.partner = partner\n",
    "        self.characteristics = self.__class__.__characteristics\n",
    "    \n",
    "    def pick_characteristics(self):\n",
    "        return str(self.characteristics[1])\n",
    "        \n",
    "    \n",
    "    def greetings(self):\n",
    "        print(\"Hi, My name is \"+self.name)\n",
    "\n",
    "\n",
    "chandler = character(name = 'chandler',occupation = 'statistical consultant', age = friends_season.generate_random_number(),partner = 'Monica')\n",
    "chandler.set_counter(221)\n",
    "chandler.get_counter()"
   ]
  },
  {
   "cell_type": "code",
   "execution_count": 105,
   "metadata": {},
   "outputs": [
    {
     "data": {
      "text/plain": [
       "{'_friends_season__age': 26,\n",
       " '_friends_season__name': 'chandler',\n",
       " '_friends_season__occupation': 'statistical consultant',\n",
       " 'characteristics': ('witty',\n",
       "  'sarcastic',\n",
       "  'lonely',\n",
       "  'alone',\n",
       "  'desparate for love'),\n",
       " 'partner': 'Monica'}"
      ]
     },
     "execution_count": 105,
     "metadata": {},
     "output_type": "execute_result"
    }
   ],
   "source": [
    "chandler.__dict__"
   ]
  },
  {
   "cell_type": "code",
   "execution_count": 107,
   "metadata": {},
   "outputs": [
    {
     "data": {
      "text/plain": [
       "'sarcastic'"
      ]
     },
     "execution_count": 107,
     "metadata": {},
     "output_type": "execute_result"
    }
   ],
   "source": [
    "chandler.pick_characteristics()"
   ]
  },
  {
   "cell_type": "markdown",
   "metadata": {},
   "source": [
    "## Methods and Operators Overloading"
   ]
  },
  {
   "cell_type": "code",
   "execution_count": 121,
   "metadata": {},
   "outputs": [
    {
     "name": "stdout",
     "output_type": "stream",
     "text": [
      "Good Night\n",
      "Hi, My name is chandler\n",
      "\n",
      "with over loading\n",
      "Good Morning\n",
      "Hi, My name is chandler\n",
      "('witty', 'sarcastic', 'lonely', 'alone', 'desparate for love', 'witty', 'sarcastic', 'lonely', 'alone', 'desparate for love')\n"
     ]
    }
   ],
   "source": [
    "import numpy as np\n",
    "\n",
    "class friends_season():\n",
    "    \n",
    "    #all the attributes are set to private \n",
    "    __episode_count = 236\n",
    "    __season_count = 10\n",
    "    __channel = 'NBC'\n",
    "    \n",
    "    def __init__(self,name,occupation,age):\n",
    "        self.__name = name\n",
    "        self.__occupation = occupation  \n",
    "        self.__age = age\n",
    "        self.__class__.__episode_count+=1\n",
    "    \n",
    "    def greeting(self):\n",
    "        print(\"In the greetings method of main class\")\n",
    "        \n",
    "    def theme(self):\n",
    "        print(\"No one is ever gonna tell you life is going to be this way\")\n",
    "    \n",
    "    @classmethod\n",
    "    def get_counter(cls):\n",
    "        return cls.__episode_count\n",
    "    \n",
    "    def get_name(self):\n",
    "        return self.__name\n",
    "    \n",
    "    # Define the setter\n",
    "    @classmethod\n",
    "    def set_counter(cls, new_value):\n",
    "        # Only int is allowed\n",
    "        if isinstance(new_value, int):\n",
    "            cls.__episode_count = new_value\n",
    "        else:\n",
    "            raise TypeError('Counter Must Be Int!')\n",
    "    \n",
    "    @staticmethod\n",
    "    def generate_random_number():\n",
    "        return np.random.randint(25,30,1)[0]\n",
    "\n",
    "class character(friends_season):\n",
    "    \n",
    "    __characteristics = ('witty','sarcastic','lonely','alone','desparate for love')\n",
    "    \n",
    "    def __init__(self,name, occupation,age, partner):\n",
    "        super().__init__(name,occupation,age)\n",
    "        self.partner = partner\n",
    "        self.characteristics = self.__class__.__characteristics\n",
    "    \n",
    "    def pick_characteristics(self):\n",
    "        return str(self.characteristics[1])\n",
    "        \n",
    "    #Method Overloading\n",
    "    def greetings(self,isMorning = False):\n",
    "        if (isMorning == True):\n",
    "            print(\"Good Morning\")\n",
    "        else:\n",
    "            print(\"Good Night\")\n",
    "        print(\"Hi, My name is \"+self.get_name())\n",
    "    \n",
    "    #Operator Overloading\n",
    "    def __add__(self,add1):\n",
    "        combined_characteristics = self.__characteristics + add1.__characteristics\n",
    "        print(combined_characteristics)\n",
    "    \n",
    "chandler = character(name = 'chandler',occupation = 'statistical consultant', age = friends_season.generate_random_number(),partner = 'Monica')\n",
    "ross = character(name = 'Ross', occupation = 'dinasour', age = friends_season.generate_random_number(),partner='Rachel')\n",
    "chandler.set_counter(221)\n",
    "chandler.get_counter()\n",
    "chandler.greetings()\n",
    "print(\"\\nwith over loading\")\n",
    "chandler.greetings(isMorning = True)\n",
    "\n",
    "chandler + ross"
   ]
  },
  {
   "cell_type": "markdown",
   "metadata": {},
   "source": [
    "### *args"
   ]
  },
  {
   "cell_type": "code",
   "execution_count": 124,
   "metadata": {},
   "outputs": [],
   "source": [
    "def add_args(*args):\n",
    "    print(sum(args))"
   ]
  },
  {
   "cell_type": "code",
   "execution_count": 125,
   "metadata": {},
   "outputs": [
    {
     "name": "stdout",
     "output_type": "stream",
     "text": [
      "6\n",
      "11\n"
     ]
    }
   ],
   "source": [
    "add_args(1,2,3)\n",
    "add_args(1,2,3,5)"
   ]
  },
  {
   "cell_type": "markdown",
   "metadata": {},
   "source": [
    "### kwargs"
   ]
  },
  {
   "cell_type": "code",
   "execution_count": 143,
   "metadata": {},
   "outputs": [],
   "source": [
    "def pair_kwargs(**kwargs):\n",
    "    for j in kwargs.keys():\n",
    "        print(j)\n",
    "        print(kwargs[j])"
   ]
  },
  {
   "cell_type": "code",
   "execution_count": 144,
   "metadata": {},
   "outputs": [],
   "source": [
    "character_dict = {'1':'chandler','2':'Monica'}"
   ]
  },
  {
   "cell_type": "code",
   "execution_count": 148,
   "metadata": {},
   "outputs": [
    {
     "name": "stdout",
     "output_type": "stream",
     "text": [
      "name\n",
      "chandler\n",
      "occupation\n",
      "statisitcal consultant\n"
     ]
    }
   ],
   "source": [
    "pair_kwargs(name = 'chandler',occupation = 'statisitcal consultant')"
   ]
  },
  {
   "cell_type": "code",
   "execution_count": null,
   "metadata": {},
   "outputs": [],
   "source": []
  }
 ],
 "metadata": {
  "kernelspec": {
   "display_name": "Python 3",
   "language": "python",
   "name": "python3"
  },
  "language_info": {
   "codemirror_mode": {
    "name": "ipython",
    "version": 3
   },
   "file_extension": ".py",
   "mimetype": "text/x-python",
   "name": "python",
   "nbconvert_exporter": "python",
   "pygments_lexer": "ipython3",
   "version": "3.6.4"
  }
 },
 "nbformat": 4,
 "nbformat_minor": 2
}
